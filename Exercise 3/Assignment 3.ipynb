{
 "cells": [
  {
   "cell_type": "code",
   "execution_count": 5,
   "metadata": {
    "collapsed": true
   },
   "outputs": [],
   "source": [
    "import pandas as pd\n",
    "import numpy as np\n",
    "import sklearn\n",
    "import matplotlib.pyplot as plt\n",
    "from sklearn.model_selection import train_test_split\n",
    "from sklearn import svm\n",
    "from sklearn.decomposition import PCA\n",
    "from sklearn.preprocessing import scale\n",
    "from sklearn.model_selection import KFold\n",
    "from sklearn.model_selection import cross_val_score\n",
    "from sklearn.linear_model import LogisticRegression\n",
    "from sklearn.tree import DecisionTreeClassifier\n",
    "from sklearn.neighbors import KNeighborsClassifier\n",
    "from sklearn.discriminant_analysis import LinearDiscriminantAnalysis\n",
    "from sklearn.naive_bayes import GaussianNB\n",
    "from sklearn.svm import SVC\n",
    "from sklearn.preprocessing import Normalizer\n",
    "from sklearn.preprocessing import StandardScaler"
   ]
  },
  {
   "cell_type": "code",
   "execution_count": 6,
   "metadata": {
    "collapsed": true
   },
   "outputs": [],
   "source": [
    "df = pd.read_csv(\"mnist_dataset.csv\")"
   ]
  },
  {
   "cell_type": "code",
   "execution_count": 7,
   "metadata": {
    "collapsed": true
   },
   "outputs": [],
   "source": [
    "# y is our target and x is independent value\n",
    "features = df.columns[1:]\n",
    "x = df[features]\n",
    "y = df['label']"
   ]
  },
  {
   "cell_type": "code",
   "execution_count": 8,
   "metadata": {
    "collapsed": false
   },
   "outputs": [
    {
     "data": {
      "text/plain": [
       "((42000, 784), (42000,))"
      ]
     },
     "execution_count": 8,
     "metadata": {},
     "output_type": "execute_result"
    }
   ],
   "source": [
    "x.shape, y.shape"
   ]
  },
  {
   "cell_type": "code",
   "execution_count": 41,
   "metadata": {
    "collapsed": false
   },
   "outputs": [
    {
     "data": {
      "image/png": "[encoded data removed]",
      "text/plain": [
       "<matplotlib.figure.Figure at 0x29a328b9da0>"
      ]
     },
     "metadata": {},
     "output_type": "display_data"
    }
   ],
   "source": [
    "# first row is first image\n",
    "i_image = x.loc[0,:]\n",
    "i_label = y[0]\n",
    "# 784 columns correspond to 28x28 image\n",
    "plot_image = np.reshape(i_image.values, (28,28))\n",
    "# plot the image\n",
    "plt.imshow(plot_image, cmap='gray_r')\n",
    "plt.title('Digit Label: {}'.format(i_label))\n",
    "plt.show()"
   ]
  },
  {
   "cell_type": "code",
   "execution_count": 53,
   "metadata": {
    "collapsed": false
   },
   "outputs": [
    {
     "data": {
      "image/png": "[encoded data removed]",
      "text/plain": [
       "<matplotlib.figure.Figure at 0x29a33bd5a90>"
      ]
     },
     "metadata": {},
     "output_type": "display_data"
    }
   ],
   "source": [
    "# histogram of image’s pixel values to show the range. These images aren’t actually black and white (0,1). \n",
    "#They are gray – scale (0,255).\n",
    "plt.hist(x.iloc[0])\n",
    "plt.show()\n",
    "plt.savefig('hist.png')"
   ]
  },
  {
   "cell_type": "code",
   "execution_count": 57,
   "metadata": {
    "collapsed": false
   },
   "outputs": [
    {
     "data": {
      "text/plain": [
       "1    0.111524\n",
       "7    0.104786\n",
       "3    0.103595\n",
       "9    0.099714\n",
       "2    0.099452\n",
       "6    0.098500\n",
       "0    0.098381\n",
       "4    0.096952\n",
       "8    0.096738\n",
       "5    0.090357\n",
       "Name: label, dtype: float64"
      ]
     },
     "execution_count": 57,
     "metadata": {},
     "output_type": "execute_result"
    }
   ],
   "source": [
    "# check how balanced our dataset is\n",
    "y_labels = y.value_counts(normalize=True)\n",
    "y_labels"
   ]
  },
  {
   "cell_type": "code",
   "execution_count": 9,
   "metadata": {
    "collapsed": true
   },
   "outputs": [],
   "source": [
    "x1 = df.iloc[0:9000, 1:]\n",
    "y1 = df.iloc[0:9000, :1]"
   ]
  },
  {
   "cell_type": "code",
   "execution_count": 10,
   "metadata": {
    "collapsed": true
   },
   "outputs": [],
   "source": [
    "x_train, x_test, y_train, y_test = train_test_split(x1, y1, test_size=0.20, random_state=7)"
   ]
  },
  {
   "cell_type": "code",
   "execution_count": 11,
   "metadata": {
    "collapsed": false
   },
   "outputs": [],
   "source": [
    "scaler = StandardScaler()\n",
    "#scaler.fit(x_train)"
   ]
  },
  {
   "cell_type": "code",
   "execution_count": 12,
   "metadata": {
    "collapsed": true
   },
   "outputs": [],
   "source": [
    "# Apply transform to both the training set and the test set.\n",
    "x_train_std = scaler.fit_transform(x_train)\n",
    "x_test_std = scaler.transform(x_test)"
   ]
  },
  {
   "cell_type": "code",
   "execution_count": 13,
   "metadata": {
    "collapsed": true
   },
   "outputs": [],
   "source": [
    "# Make an instance of the Model\n",
    "pca = PCA(.95)"
   ]
  },
  {
   "cell_type": "code",
   "execution_count": 61,
   "metadata": {
    "collapsed": false
   },
   "outputs": [
    {
     "data": {
      "text/plain": [
       "277"
      ]
     },
     "execution_count": 61,
     "metadata": {},
     "output_type": "execute_result"
    }
   ],
   "source": [
    "pca.n_components_"
   ]
  },
  {
   "cell_type": "code",
   "execution_count": 14,
   "metadata": {
    "collapsed": false
   },
   "outputs": [
    {
     "data": {
      "text/plain": [
       "PCA(copy=True, iterated_power='auto', n_components=0.95, random_state=None,\n",
       "  svd_solver='auto', tol=0.0, whiten=False)"
      ]
     },
     "execution_count": 14,
     "metadata": {},
     "output_type": "execute_result"
    }
   ],
   "source": [
    "pca.fit(x_train_std)"
   ]
  },
  {
   "cell_type": "code",
   "execution_count": 15,
   "metadata": {
    "collapsed": true
   },
   "outputs": [],
   "source": [
    "x_train_pca = pca.fit_transform(x_train_std)\n",
    "x_test_pca = pca.transform(x_test_std)"
   ]
  },
  {
   "cell_type": "code",
   "execution_count": 16,
   "metadata": {
    "collapsed": true
   },
   "outputs": [],
   "source": [
    "seed = 7\n",
    "scoring = 'accuracy'\n",
    "kfold = KFold(n_splits=10, random_state= seed)"
   ]
  },
  {
   "cell_type": "code",
   "execution_count": 17,
   "metadata": {
    "collapsed": true
   },
   "outputs": [],
   "source": [
    "models = []\n",
    "models.append(('LR',  LogisticRegression()))\n",
    "models.append(('LDA', LinearDiscriminantAnalysis()))\n",
    "models.append(('kNN', KNeighborsClassifier()))\n",
    "models.append(('DT',  DecisionTreeClassifier()))\n",
    "models.append(('NB',  GaussianNB()))\n",
    "models.append(('SVM', SVC()))"
   ]
  },
  {
   "cell_type": "code",
   "execution_count": 18,
   "metadata": {
    "collapsed": false
   },
   "outputs": [
    {
     "name": "stdout",
     "output_type": "stream",
     "text": [
      " LR: 0.891111 (+/- 0.008079)\n"
     ]
    },
    {
     "name": "stderr",
     "output_type": "stream",
     "text": [
      "C:\\Users\\Dimitris\\Anaconda3\\lib\\site-packages\\sklearn\\discriminant_analysis.py:442: UserWarning: The priors do not sum to 1. Renormalizing\n",
      "  UserWarning)\n"
     ]
    },
    {
     "name": "stdout",
     "output_type": "stream",
     "text": [
      "LDA: 0.857639 (+/- 0.014988)\n",
      "kNN: 0.905000 (+/- 0.012763)\n",
      " DT: 0.728194 (+/- 0.017992)\n",
      " NB: 0.553194 (+/- 0.015885)\n",
      "SVM: 0.911667 (+/- 0.009069)\n"
     ]
    }
   ],
   "source": [
    "results = []\n",
    "names   = []\n",
    "for name, model in models:\n",
    "    kfold = KFold(n_splits=10, random_state=7)\n",
    "    cv_results = cross_val_score(model, x_train_pca, y_train.values.ravel(), cv=kfold, scoring=scoring)\n",
    "    results.append(cv_results)\n",
    "    names.append(name)\n",
    "    print(\"%03s: %f (+/- %f)\" % (name, cv_results.mean(), cv_results.std()))"
   ]
  },
  {
   "cell_type": "code",
   "execution_count": 62,
   "metadata": {
    "collapsed": false
   },
   "outputs": [
    {
     "data": {
      "image/png": "[encoded data removed]",
      "text/plain": [
       "<matplotlib.figure.Figure at 0x29a33b8b748>"
      ]
     },
     "metadata": {},
     "output_type": "display_data"
    }
   ],
   "source": [
    "plt.figure(figsize = (10,8))\n",
    "plt.boxplot(results)\n",
    "plt.xticks(list(range(1,len(names)+1)), names)\n",
    "plt.show()"
   ]
  },
  {
   "cell_type": "code",
   "execution_count": 19,
   "metadata": {
    "collapsed": false
   },
   "outputs": [
    {
     "name": "stderr",
     "output_type": "stream",
     "text": [
      "C:\\Users\\Dimitris\\Anaconda3\\lib\\site-packages\\sklearn\\cross_validation.py:41: DeprecationWarning: This module was deprecated in version 0.18 in favor of the model_selection module into which all the refactored classes and functions are moved. Also note that the interface of the new CV iterators are different from that of this module. This module will be removed in 0.20.\n",
      "  \"This module will be removed in 0.20.\", DeprecationWarning)\n",
      "C:\\Users\\Dimitris\\Anaconda3\\lib\\site-packages\\sklearn\\grid_search.py:42: DeprecationWarning: This module was deprecated in version 0.18 in favor of the model_selection module into which all the refactored classes and functions are moved. This module will be removed in 0.20.\n",
      "  DeprecationWarning)\n"
     ]
    }
   ],
   "source": [
    "from sklearn.grid_search import GridSearchCV"
   ]
  },
  {
   "cell_type": "code",
   "execution_count": 20,
   "metadata": {
    "collapsed": false
   },
   "outputs": [],
   "source": [
    "parameters = {'kernel':['linear', 'rbf'], 'gamma': [1, 0.1, 0.001], 'C': [1, 10, 100], 'random_state':[7]}"
   ]
  },
  {
   "cell_type": "code",
   "execution_count": 21,
   "metadata": {
    "collapsed": false
   },
   "outputs": [],
   "source": [
    "model = SVC()\n",
    "grid = GridSearchCV(estimator = model,param_grid = parameters, refit = True, verbose=2, cv=10)"
   ]
  },
  {
   "cell_type": "code",
   "execution_count": 22,
   "metadata": {
    "collapsed": false
   },
   "outputs": [
    {
     "name": "stdout",
     "output_type": "stream",
     "text": [
      "Fitting 10 folds for each of 18 candidates, totalling 180 fits\n",
      "[CV] C=1, gamma=1, kernel=linear, random_state=7 .....................\n",
      "[CV] ............ C=1, gamma=1, kernel=linear, random_state=7 -   3.4s\n",
      "[CV] C=1, gamma=1, kernel=linear, random_state=7 .....................\n"
     ]
    },
    {
     "name": "stderr",
     "output_type": "stream",
     "text": [
      "[Parallel(n_jobs=1)]: Done   1 out of   1 | elapsed:    3.4s remaining:    0.0s\n"
     ]
    },
    {
     "name": "stdout",
     "output_type": "stream",
     "text": [
      "[CV] ............ C=1, gamma=1, kernel=linear, random_state=7 -   3.4s\n",
      "[CV] C=1, gamma=1, kernel=linear, random_state=7 .....................\n",
      "[CV] ............ C=1, gamma=1, kernel=linear, random_state=7 -   3.5s\n",
      "[CV] C=1, gamma=1, kernel=linear, random_state=7 .....................\n",
      "[CV] ............ C=1, gamma=1, kernel=linear, random_state=7 -   3.7s\n",
      "[CV] C=1, gamma=1, kernel=linear, random_state=7 .....................\n",
      "[CV] ............ C=1, gamma=1, kernel=linear, random_state=7 -   3.4s\n",
      "[CV] C=1, gamma=1, kernel=linear, random_state=7 .....................\n",
      "[CV] ............ C=1, gamma=1, kernel=linear, random_state=7 -   3.4s\n",
      "[CV] C=1, gamma=1, kernel=linear, random_state=7 .....................\n",
      "[CV] ............ C=1, gamma=1, kernel=linear, random_state=7 -   3.4s\n",
      "[CV] C=1, gamma=1, kernel=linear, random_state=7 .....................\n",
      "[CV] ............ C=1, gamma=1, kernel=linear, random_state=7 -   3.5s\n",
      "[CV] C=1, gamma=1, kernel=linear, random_state=7 .....................\n",
      "[CV] ............ C=1, gamma=1, kernel=linear, random_state=7 -   3.4s\n",
      "[CV] C=1, gamma=1, kernel=linear, random_state=7 .....................\n",
      "[CV] ............ C=1, gamma=1, kernel=linear, random_state=7 -   3.4s\n",
      "[CV] C=1, gamma=1, kernel=rbf, random_state=7 ........................\n",
      "[CV] ............... C=1, gamma=1, kernel=rbf, random_state=7 -  38.8s\n",
      "[CV] C=1, gamma=1, kernel=rbf, random_state=7 ........................\n",
      "[CV] ............... C=1, gamma=1, kernel=rbf, random_state=7 -  38.4s\n",
      "[CV] C=1, gamma=1, kernel=rbf, random_state=7 ........................\n",
      "[CV] ............... C=1, gamma=1, kernel=rbf, random_state=7 -  39.1s\n",
      "[CV] C=1, gamma=1, kernel=rbf, random_state=7 ........................\n",
      "[CV] ............... C=1, gamma=1, kernel=rbf, random_state=7 -  38.8s\n",
      "[CV] C=1, gamma=1, kernel=rbf, random_state=7 ........................\n",
      "[CV] ............... C=1, gamma=1, kernel=rbf, random_state=7 -  37.1s\n",
      "[CV] C=1, gamma=1, kernel=rbf, random_state=7 ........................\n",
      "[CV] ............... C=1, gamma=1, kernel=rbf, random_state=7 -  37.9s\n",
      "[CV] C=1, gamma=1, kernel=rbf, random_state=7 ........................\n",
      "[CV] ............... C=1, gamma=1, kernel=rbf, random_state=7 -  36.6s\n",
      "[CV] C=1, gamma=1, kernel=rbf, random_state=7 ........................\n",
      "[CV] ............... C=1, gamma=1, kernel=rbf, random_state=7 -  36.5s\n",
      "[CV] C=1, gamma=1, kernel=rbf, random_state=7 ........................\n",
      "[CV] ............... C=1, gamma=1, kernel=rbf, random_state=7 -  36.4s\n",
      "[CV] C=1, gamma=1, kernel=rbf, random_state=7 ........................\n",
      "[CV] ............... C=1, gamma=1, kernel=rbf, random_state=7 -  36.3s\n",
      "[CV] C=1, gamma=0.1, kernel=linear, random_state=7 ...................\n",
      "[CV] .......... C=1, gamma=0.1, kernel=linear, random_state=7 -   3.4s\n",
      "[CV] C=1, gamma=0.1, kernel=linear, random_state=7 ...................\n",
      "[CV] .......... C=1, gamma=0.1, kernel=linear, random_state=7 -   3.3s\n",
      "[CV] C=1, gamma=0.1, kernel=linear, random_state=7 ...................\n",
      "[CV] .......... C=1, gamma=0.1, kernel=linear, random_state=7 -   3.4s\n",
      "[CV] C=1, gamma=0.1, kernel=linear, random_state=7 ...................\n",
      "[CV] .......... C=1, gamma=0.1, kernel=linear, random_state=7 -   3.5s\n",
      "[CV] C=1, gamma=0.1, kernel=linear, random_state=7 ...................\n",
      "[CV] .......... C=1, gamma=0.1, kernel=linear, random_state=7 -   3.3s\n",
      "[CV] C=1, gamma=0.1, kernel=linear, random_state=7 ...................\n",
      "[CV] .......... C=1, gamma=0.1, kernel=linear, random_state=7 -   3.5s\n",
      "[CV] C=1, gamma=0.1, kernel=linear, random_state=7 ...................\n",
      "[CV] .......... C=1, gamma=0.1, kernel=linear, random_state=7 -   3.7s\n",
      "[CV] C=1, gamma=0.1, kernel=linear, random_state=7 ...................\n",
      "[CV] .......... C=1, gamma=0.1, kernel=linear, random_state=7 -   3.7s\n",
      "[CV] C=1, gamma=0.1, kernel=linear, random_state=7 ...................\n",
      "[CV] .......... C=1, gamma=0.1, kernel=linear, random_state=7 -   4.0s\n",
      "[CV] C=1, gamma=0.1, kernel=linear, random_state=7 ...................\n",
      "[CV] .......... C=1, gamma=0.1, kernel=linear, random_state=7 -   3.7s\n",
      "[CV] C=1, gamma=0.1, kernel=rbf, random_state=7 ......................\n",
      "[CV] ............. C=1, gamma=0.1, kernel=rbf, random_state=7 -  39.6s\n",
      "[CV] C=1, gamma=0.1, kernel=rbf, random_state=7 ......................\n",
      "[CV] ............. C=1, gamma=0.1, kernel=rbf, random_state=7 -  38.5s\n",
      "[CV] C=1, gamma=0.1, kernel=rbf, random_state=7 ......................\n",
      "[CV] ............. C=1, gamma=0.1, kernel=rbf, random_state=7 -  37.2s\n",
      "[CV] C=1, gamma=0.1, kernel=rbf, random_state=7 ......................\n",
      "[CV] ............. C=1, gamma=0.1, kernel=rbf, random_state=7 -  38.9s\n",
      "[CV] C=1, gamma=0.1, kernel=rbf, random_state=7 ......................\n",
      "[CV] ............. C=1, gamma=0.1, kernel=rbf, random_state=7 -  39.9s\n",
      "[CV] C=1, gamma=0.1, kernel=rbf, random_state=7 ......................\n",
      "[CV] ............. C=1, gamma=0.1, kernel=rbf, random_state=7 -  36.2s\n",
      "[CV] C=1, gamma=0.1, kernel=rbf, random_state=7 ......................\n",
      "[CV] ............. C=1, gamma=0.1, kernel=rbf, random_state=7 -  36.1s\n",
      "[CV] C=1, gamma=0.1, kernel=rbf, random_state=7 ......................\n",
      "[CV] ............. C=1, gamma=0.1, kernel=rbf, random_state=7 -  36.1s\n",
      "[CV] C=1, gamma=0.1, kernel=rbf, random_state=7 ......................\n",
      "[CV] ............. C=1, gamma=0.1, kernel=rbf, random_state=7 -  36.1s\n",
      "[CV] C=1, gamma=0.1, kernel=rbf, random_state=7 ......................\n",
      "[CV] ............. C=1, gamma=0.1, kernel=rbf, random_state=7 -  36.0s\n",
      "[CV] C=1, gamma=0.001, kernel=linear, random_state=7 .................\n",
      "[CV] ........ C=1, gamma=0.001, kernel=linear, random_state=7 -   3.4s\n",
      "[CV] C=1, gamma=0.001, kernel=linear, random_state=7 .................\n",
      "[CV] ........ C=1, gamma=0.001, kernel=linear, random_state=7 -   3.3s\n",
      "[CV] C=1, gamma=0.001, kernel=linear, random_state=7 .................\n",
      "[CV] ........ C=1, gamma=0.001, kernel=linear, random_state=7 -   3.4s\n",
      "[CV] C=1, gamma=0.001, kernel=linear, random_state=7 .................\n",
      "[CV] ........ C=1, gamma=0.001, kernel=linear, random_state=7 -   3.5s\n",
      "[CV] C=1, gamma=0.001, kernel=linear, random_state=7 .................\n",
      "[CV] ........ C=1, gamma=0.001, kernel=linear, random_state=7 -   3.4s\n",
      "[CV] C=1, gamma=0.001, kernel=linear, random_state=7 .................\n",
      "[CV] ........ C=1, gamma=0.001, kernel=linear, random_state=7 -   3.4s\n",
      "[CV] C=1, gamma=0.001, kernel=linear, random_state=7 .................\n",
      "[CV] ........ C=1, gamma=0.001, kernel=linear, random_state=7 -   3.4s\n",
      "[CV] C=1, gamma=0.001, kernel=linear, random_state=7 .................\n",
      "[CV] ........ C=1, gamma=0.001, kernel=linear, random_state=7 -   3.4s\n",
      "[CV] C=1, gamma=0.001, kernel=linear, random_state=7 .................\n",
      "[CV] ........ C=1, gamma=0.001, kernel=linear, random_state=7 -   3.4s\n",
      "[CV] C=1, gamma=0.001, kernel=linear, random_state=7 .................\n",
      "[CV] ........ C=1, gamma=0.001, kernel=linear, random_state=7 -   3.5s\n",
      "[CV] C=1, gamma=0.001, kernel=rbf, random_state=7 ....................\n",
      "[CV] ........... C=1, gamma=0.001, kernel=rbf, random_state=7 -   7.3s\n",
      "[CV] C=1, gamma=0.001, kernel=rbf, random_state=7 ....................\n",
      "[CV] ........... C=1, gamma=0.001, kernel=rbf, random_state=7 -   7.3s\n",
      "[CV] C=1, gamma=0.001, kernel=rbf, random_state=7 ....................\n",
      "[CV] ........... C=1, gamma=0.001, kernel=rbf, random_state=7 -   7.4s\n",
      "[CV] C=1, gamma=0.001, kernel=rbf, random_state=7 ....................\n",
      "[CV] ........... C=1, gamma=0.001, kernel=rbf, random_state=7 -   7.2s\n",
      "[CV] C=1, gamma=0.001, kernel=rbf, random_state=7 ....................\n",
      "[CV] ........... C=1, gamma=0.001, kernel=rbf, random_state=7 -   7.2s\n",
      "[CV] C=1, gamma=0.001, kernel=rbf, random_state=7 ....................\n",
      "[CV] ........... C=1, gamma=0.001, kernel=rbf, random_state=7 -   7.2s\n",
      "[CV] C=1, gamma=0.001, kernel=rbf, random_state=7 ....................\n",
      "[CV] ........... C=1, gamma=0.001, kernel=rbf, random_state=7 -   7.2s\n",
      "[CV] C=1, gamma=0.001, kernel=rbf, random_state=7 ....................\n",
      "[CV] ........... C=1, gamma=0.001, kernel=rbf, random_state=7 -   7.2s\n",
      "[CV] C=1, gamma=0.001, kernel=rbf, random_state=7 ....................\n",
      "[CV] ........... C=1, gamma=0.001, kernel=rbf, random_state=7 -   7.2s\n",
      "[CV] C=1, gamma=0.001, kernel=rbf, random_state=7 ....................\n",
      "[CV] ........... C=1, gamma=0.001, kernel=rbf, random_state=7 -   7.3s\n",
      "[CV] C=10, gamma=1, kernel=linear, random_state=7 ....................\n",
      "[CV] ........... C=10, gamma=1, kernel=linear, random_state=7 -   3.4s\n",
      "[CV] C=10, gamma=1, kernel=linear, random_state=7 ....................\n",
      "[CV] ........... C=10, gamma=1, kernel=linear, random_state=7 -   3.3s\n",
      "[CV] C=10, gamma=1, kernel=linear, random_state=7 ....................\n",
      "[CV] ........... C=10, gamma=1, kernel=linear, random_state=7 -   3.4s\n",
      "[CV] C=10, gamma=1, kernel=linear, random_state=7 ....................\n",
      "[CV] ........... C=10, gamma=1, kernel=linear, random_state=7 -   3.5s\n",
      "[CV] C=10, gamma=1, kernel=linear, random_state=7 ....................\n",
      "[CV] ........... C=10, gamma=1, kernel=linear, random_state=7 -   3.4s\n",
      "[CV] C=10, gamma=1, kernel=linear, random_state=7 ....................\n",
      "[CV] ........... C=10, gamma=1, kernel=linear, random_state=7 -   3.4s\n",
      "[CV] C=10, gamma=1, kernel=linear, random_state=7 ....................\n",
      "[CV] ........... C=10, gamma=1, kernel=linear, random_state=7 -   3.4s\n",
      "[CV] C=10, gamma=1, kernel=linear, random_state=7 ....................\n",
      "[CV] ........... C=10, gamma=1, kernel=linear, random_state=7 -   3.4s\n",
      "[CV] C=10, gamma=1, kernel=linear, random_state=7 ....................\n",
      "[CV] ........... C=10, gamma=1, kernel=linear, random_state=7 -   3.5s\n",
      "[CV] C=10, gamma=1, kernel=linear, random_state=7 ....................\n",
      "[CV] ........... C=10, gamma=1, kernel=linear, random_state=7 -   3.4s\n",
      "[CV] C=10, gamma=1, kernel=rbf, random_state=7 .......................\n",
      "[CV] .............. C=10, gamma=1, kernel=rbf, random_state=7 -  36.6s\n",
      "[CV] C=10, gamma=1, kernel=rbf, random_state=7 .......................\n",
      "[CV] .............. C=10, gamma=1, kernel=rbf, random_state=7 -  36.5s\n",
      "[CV] C=10, gamma=1, kernel=rbf, random_state=7 .......................\n",
      "[CV] .............. C=10, gamma=1, kernel=rbf, random_state=7 -  37.4s\n",
      "[CV] C=10, gamma=1, kernel=rbf, random_state=7 .......................\n",
      "[CV] .............. C=10, gamma=1, kernel=rbf, random_state=7 -  36.4s\n",
      "[CV] C=10, gamma=1, kernel=rbf, random_state=7 .......................\n",
      "[CV] .............. C=10, gamma=1, kernel=rbf, random_state=7 -  36.6s\n",
      "[CV] C=10, gamma=1, kernel=rbf, random_state=7 .......................\n",
      "[CV] .............. C=10, gamma=1, kernel=rbf, random_state=7 -  36.6s\n",
      "[CV] C=10, gamma=1, kernel=rbf, random_state=7 .......................\n",
      "[CV] .............. C=10, gamma=1, kernel=rbf, random_state=7 -  36.5s\n",
      "[CV] C=10, gamma=1, kernel=rbf, random_state=7 .......................\n",
      "[CV] .............. C=10, gamma=1, kernel=rbf, random_state=7 -  36.6s\n",
      "[CV] C=10, gamma=1, kernel=rbf, random_state=7 .......................\n",
      "[CV] .............. C=10, gamma=1, kernel=rbf, random_state=7 -  36.6s\n",
      "[CV] C=10, gamma=1, kernel=rbf, random_state=7 .......................\n",
      "[CV] .............. C=10, gamma=1, kernel=rbf, random_state=7 -  38.5s\n",
      "[CV] C=10, gamma=0.1, kernel=linear, random_state=7 ..................\n",
      "[CV] ......... C=10, gamma=0.1, kernel=linear, random_state=7 -   3.4s\n",
      "[CV] C=10, gamma=0.1, kernel=linear, random_state=7 ..................\n",
      "[CV] ......... C=10, gamma=0.1, kernel=linear, random_state=7 -   3.3s\n",
      "[CV] C=10, gamma=0.1, kernel=linear, random_state=7 ..................\n",
      "[CV] ......... C=10, gamma=0.1, kernel=linear, random_state=7 -   3.4s\n",
      "[CV] C=10, gamma=0.1, kernel=linear, random_state=7 ..................\n",
      "[CV] ......... C=10, gamma=0.1, kernel=linear, random_state=7 -   3.7s\n",
      "[CV] C=10, gamma=0.1, kernel=linear, random_state=7 ..................\n",
      "[CV] ......... C=10, gamma=0.1, kernel=linear, random_state=7 -   3.6s\n",
      "[CV] C=10, gamma=0.1, kernel=linear, random_state=7 ..................\n",
      "[CV] ......... C=10, gamma=0.1, kernel=linear, random_state=7 -   3.4s\n",
      "[CV] C=10, gamma=0.1, kernel=linear, random_state=7 ..................\n",
      "[CV] ......... C=10, gamma=0.1, kernel=linear, random_state=7 -   3.5s\n",
      "[CV] C=10, gamma=0.1, kernel=linear, random_state=7 ..................\n",
      "[CV] ......... C=10, gamma=0.1, kernel=linear, random_state=7 -   3.5s\n",
      "[CV] C=10, gamma=0.1, kernel=linear, random_state=7 ..................\n",
      "[CV] ......... C=10, gamma=0.1, kernel=linear, random_state=7 -   3.5s\n",
      "[CV] C=10, gamma=0.1, kernel=linear, random_state=7 ..................\n",
      "[CV] ......... C=10, gamma=0.1, kernel=linear, random_state=7 -   3.5s\n",
      "[CV] C=10, gamma=0.1, kernel=rbf, random_state=7 .....................\n",
      "[CV] ............ C=10, gamma=0.1, kernel=rbf, random_state=7 -  37.3s\n",
      "[CV] C=10, gamma=0.1, kernel=rbf, random_state=7 .....................\n",
      "[CV] ............ C=10, gamma=0.1, kernel=rbf, random_state=7 -  39.0s\n",
      "[CV] C=10, gamma=0.1, kernel=rbf, random_state=7 .....................\n",
      "[CV] ............ C=10, gamma=0.1, kernel=rbf, random_state=7 -  38.4s\n",
      "[CV] C=10, gamma=0.1, kernel=rbf, random_state=7 .....................\n",
      "[CV] ............ C=10, gamma=0.1, kernel=rbf, random_state=7 -  37.5s\n",
      "[CV] C=10, gamma=0.1, kernel=rbf, random_state=7 .....................\n",
      "[CV] ............ C=10, gamma=0.1, kernel=rbf, random_state=7 -  37.3s\n",
      "[CV] C=10, gamma=0.1, kernel=rbf, random_state=7 .....................\n",
      "[CV] ............ C=10, gamma=0.1, kernel=rbf, random_state=7 -  40.6s\n",
      "[CV] C=10, gamma=0.1, kernel=rbf, random_state=7 .....................\n",
      "[CV] ............ C=10, gamma=0.1, kernel=rbf, random_state=7 -  38.4s\n",
      "[CV] C=10, gamma=0.1, kernel=rbf, random_state=7 .....................\n",
      "[CV] ............ C=10, gamma=0.1, kernel=rbf, random_state=7 -  31.3s\n",
      "[CV] C=10, gamma=0.1, kernel=rbf, random_state=7 .....................\n",
      "[CV] ............ C=10, gamma=0.1, kernel=rbf, random_state=7 -  28.5s\n",
      "[CV] C=10, gamma=0.1, kernel=rbf, random_state=7 .....................\n",
      "[CV] ............ C=10, gamma=0.1, kernel=rbf, random_state=7 -  29.2s\n",
      "[CV] C=10, gamma=0.001, kernel=linear, random_state=7 ................\n",
      "[CV] ....... C=10, gamma=0.001, kernel=linear, random_state=7 -   2.9s\n",
      "[CV] C=10, gamma=0.001, kernel=linear, random_state=7 ................\n",
      "[CV] ....... C=10, gamma=0.001, kernel=linear, random_state=7 -   2.5s\n",
      "[CV] C=10, gamma=0.001, kernel=linear, random_state=7 ................\n",
      "[CV] ....... C=10, gamma=0.001, kernel=linear, random_state=7 -   2.6s\n",
      "[CV] C=10, gamma=0.001, kernel=linear, random_state=7 ................\n",
      "[CV] ....... C=10, gamma=0.001, kernel=linear, random_state=7 -   2.7s\n",
      "[CV] C=10, gamma=0.001, kernel=linear, random_state=7 ................\n",
      "[CV] ....... C=10, gamma=0.001, kernel=linear, random_state=7 -   2.6s\n",
      "[CV] C=10, gamma=0.001, kernel=linear, random_state=7 ................\n",
      "[CV] ....... C=10, gamma=0.001, kernel=linear, random_state=7 -   2.7s\n",
      "[CV] C=10, gamma=0.001, kernel=linear, random_state=7 ................\n",
      "[CV] ....... C=10, gamma=0.001, kernel=linear, random_state=7 -   2.7s\n",
      "[CV] C=10, gamma=0.001, kernel=linear, random_state=7 ................\n",
      "[CV] ....... C=10, gamma=0.001, kernel=linear, random_state=7 -   3.1s\n",
      "[CV] C=10, gamma=0.001, kernel=linear, random_state=7 ................\n",
      "[CV] ....... C=10, gamma=0.001, kernel=linear, random_state=7 -   3.1s\n",
      "[CV] C=10, gamma=0.001, kernel=linear, random_state=7 ................\n",
      "[CV] ....... C=10, gamma=0.001, kernel=linear, random_state=7 -   2.8s\n",
      "[CV] C=10, gamma=0.001, kernel=rbf, random_state=7 ...................\n",
      "[CV] .......... C=10, gamma=0.001, kernel=rbf, random_state=7 -   4.5s\n",
      "[CV] C=10, gamma=0.001, kernel=rbf, random_state=7 ...................\n",
      "[CV] .......... C=10, gamma=0.001, kernel=rbf, random_state=7 -   4.8s\n",
      "[CV] C=10, gamma=0.001, kernel=rbf, random_state=7 ...................\n",
      "[CV] .......... C=10, gamma=0.001, kernel=rbf, random_state=7 -   4.6s\n",
      "[CV] C=10, gamma=0.001, kernel=rbf, random_state=7 ...................\n",
      "[CV] .......... C=10, gamma=0.001, kernel=rbf, random_state=7 -   4.5s\n",
      "[CV] C=10, gamma=0.001, kernel=rbf, random_state=7 ...................\n",
      "[CV] .......... C=10, gamma=0.001, kernel=rbf, random_state=7 -   4.6s\n",
      "[CV] C=10, gamma=0.001, kernel=rbf, random_state=7 ...................\n",
      "[CV] .......... C=10, gamma=0.001, kernel=rbf, random_state=7 -   4.6s\n",
      "[CV] C=10, gamma=0.001, kernel=rbf, random_state=7 ...................\n",
      "[CV] .......... C=10, gamma=0.001, kernel=rbf, random_state=7 -   4.6s\n",
      "[CV] C=10, gamma=0.001, kernel=rbf, random_state=7 ...................\n",
      "[CV] .......... C=10, gamma=0.001, kernel=rbf, random_state=7 -   4.6s\n",
      "[CV] C=10, gamma=0.001, kernel=rbf, random_state=7 ...................\n",
      "[CV] .......... C=10, gamma=0.001, kernel=rbf, random_state=7 -   4.9s\n",
      "[CV] C=10, gamma=0.001, kernel=rbf, random_state=7 ...................\n",
      "[CV] .......... C=10, gamma=0.001, kernel=rbf, random_state=7 -   4.8s\n",
      "[CV] C=100, gamma=1, kernel=linear, random_state=7 ...................\n",
      "[CV] .......... C=100, gamma=1, kernel=linear, random_state=7 -   2.7s\n",
      "[CV] C=100, gamma=1, kernel=linear, random_state=7 ...................\n",
      "[CV] .......... C=100, gamma=1, kernel=linear, random_state=7 -   2.9s\n",
      "[CV] C=100, gamma=1, kernel=linear, random_state=7 ...................\n",
      "[CV] .......... C=100, gamma=1, kernel=linear, random_state=7 -   3.1s\n",
      "[CV] C=100, gamma=1, kernel=linear, random_state=7 ...................\n",
      "[CV] .......... C=100, gamma=1, kernel=linear, random_state=7 -   2.7s\n",
      "[CV] C=100, gamma=1, kernel=linear, random_state=7 ...................\n",
      "[CV] .......... C=100, gamma=1, kernel=linear, random_state=7 -   2.6s\n",
      "[CV] C=100, gamma=1, kernel=linear, random_state=7 ...................\n",
      "[CV] .......... C=100, gamma=1, kernel=linear, random_state=7 -   2.7s\n",
      "[CV] C=100, gamma=1, kernel=linear, random_state=7 ...................\n",
      "[CV] .......... C=100, gamma=1, kernel=linear, random_state=7 -   2.5s\n",
      "[CV] C=100, gamma=1, kernel=linear, random_state=7 ...................\n",
      "[CV] .......... C=100, gamma=1, kernel=linear, random_state=7 -   2.5s\n",
      "[CV] C=100, gamma=1, kernel=linear, random_state=7 ...................\n",
      "[CV] .......... C=100, gamma=1, kernel=linear, random_state=7 -   2.5s\n",
      "[CV] C=100, gamma=1, kernel=linear, random_state=7 ...................\n",
      "[CV] .......... C=100, gamma=1, kernel=linear, random_state=7 -   2.4s\n",
      "[CV] C=100, gamma=1, kernel=rbf, random_state=7 ......................\n",
      "[CV] ............. C=100, gamma=1, kernel=rbf, random_state=7 -  27.5s\n",
      "[CV] C=100, gamma=1, kernel=rbf, random_state=7 ......................\n",
      "[CV] ............. C=100, gamma=1, kernel=rbf, random_state=7 -  27.0s\n",
      "[CV] C=100, gamma=1, kernel=rbf, random_state=7 ......................\n",
      "[CV] ............. C=100, gamma=1, kernel=rbf, random_state=7 -  27.0s\n",
      "[CV] C=100, gamma=1, kernel=rbf, random_state=7 ......................\n",
      "[CV] ............. C=100, gamma=1, kernel=rbf, random_state=7 -  26.7s\n",
      "[CV] C=100, gamma=1, kernel=rbf, random_state=7 ......................\n",
      "[CV] ............. C=100, gamma=1, kernel=rbf, random_state=7 -  26.4s\n",
      "[CV] C=100, gamma=1, kernel=rbf, random_state=7 ......................\n",
      "[CV] ............. C=100, gamma=1, kernel=rbf, random_state=7 -  30.3s\n",
      "[CV] C=100, gamma=1, kernel=rbf, random_state=7 ......................\n",
      "[CV] ............. C=100, gamma=1, kernel=rbf, random_state=7 -  26.9s\n",
      "[CV] C=100, gamma=1, kernel=rbf, random_state=7 ......................\n",
      "[CV] ............. C=100, gamma=1, kernel=rbf, random_state=7 -  27.2s\n",
      "[CV] C=100, gamma=1, kernel=rbf, random_state=7 ......................\n",
      "[CV] ............. C=100, gamma=1, kernel=rbf, random_state=7 -  28.0s\n",
      "[CV] C=100, gamma=1, kernel=rbf, random_state=7 ......................\n",
      "[CV] ............. C=100, gamma=1, kernel=rbf, random_state=7 -  28.7s\n",
      "[CV] C=100, gamma=0.1, kernel=linear, random_state=7 .................\n",
      "[CV] ........ C=100, gamma=0.1, kernel=linear, random_state=7 -   2.6s\n",
      "[CV] C=100, gamma=0.1, kernel=linear, random_state=7 .................\n",
      "[CV] ........ C=100, gamma=0.1, kernel=linear, random_state=7 -   2.7s\n",
      "[CV] C=100, gamma=0.1, kernel=linear, random_state=7 .................\n",
      "[CV] ........ C=100, gamma=0.1, kernel=linear, random_state=7 -   2.6s\n",
      "[CV] C=100, gamma=0.1, kernel=linear, random_state=7 .................\n",
      "[CV] ........ C=100, gamma=0.1, kernel=linear, random_state=7 -   2.7s\n",
      "[CV] C=100, gamma=0.1, kernel=linear, random_state=7 .................\n",
      "[CV] ........ C=100, gamma=0.1, kernel=linear, random_state=7 -   2.6s\n",
      "[CV] C=100, gamma=0.1, kernel=linear, random_state=7 .................\n",
      "[CV] ........ C=100, gamma=0.1, kernel=linear, random_state=7 -   2.6s\n",
      "[CV] C=100, gamma=0.1, kernel=linear, random_state=7 .................\n",
      "[CV] ........ C=100, gamma=0.1, kernel=linear, random_state=7 -   2.6s\n",
      "[CV] C=100, gamma=0.1, kernel=linear, random_state=7 .................\n",
      "[CV] ........ C=100, gamma=0.1, kernel=linear, random_state=7 -   2.6s\n",
      "[CV] C=100, gamma=0.1, kernel=linear, random_state=7 .................\n",
      "[CV] ........ C=100, gamma=0.1, kernel=linear, random_state=7 -   2.7s\n",
      "[CV] C=100, gamma=0.1, kernel=linear, random_state=7 .................\n",
      "[CV] ........ C=100, gamma=0.1, kernel=linear, random_state=7 -   2.6s\n",
      "[CV] C=100, gamma=0.1, kernel=rbf, random_state=7 ....................\n",
      "[CV] ........... C=100, gamma=0.1, kernel=rbf, random_state=7 -  29.9s\n",
      "[CV] C=100, gamma=0.1, kernel=rbf, random_state=7 ....................\n",
      "[CV] ........... C=100, gamma=0.1, kernel=rbf, random_state=7 -  28.9s\n",
      "[CV] C=100, gamma=0.1, kernel=rbf, random_state=7 ....................\n",
      "[CV] ........... C=100, gamma=0.1, kernel=rbf, random_state=7 -  27.5s\n",
      "[CV] C=100, gamma=0.1, kernel=rbf, random_state=7 ....................\n",
      "[CV] ........... C=100, gamma=0.1, kernel=rbf, random_state=7 -  30.4s\n",
      "[CV] C=100, gamma=0.1, kernel=rbf, random_state=7 ....................\n",
      "[CV] ........... C=100, gamma=0.1, kernel=rbf, random_state=7 -  34.1s\n",
      "[CV] C=100, gamma=0.1, kernel=rbf, random_state=7 ....................\n",
      "[CV] ........... C=100, gamma=0.1, kernel=rbf, random_state=7 -  34.6s\n",
      "[CV] C=100, gamma=0.1, kernel=rbf, random_state=7 ....................\n",
      "[CV] ........... C=100, gamma=0.1, kernel=rbf, random_state=7 -  27.1s\n",
      "[CV] C=100, gamma=0.1, kernel=rbf, random_state=7 ....................\n",
      "[CV] ........... C=100, gamma=0.1, kernel=rbf, random_state=7 -  27.0s\n",
      "[CV] C=100, gamma=0.1, kernel=rbf, random_state=7 ....................\n",
      "[CV] ........... C=100, gamma=0.1, kernel=rbf, random_state=7 -  27.3s\n",
      "[CV] C=100, gamma=0.1, kernel=rbf, random_state=7 ....................\n",
      "[CV] ........... C=100, gamma=0.1, kernel=rbf, random_state=7 -  27.1s\n",
      "[CV] C=100, gamma=0.001, kernel=linear, random_state=7 ...............\n",
      "[CV] ...... C=100, gamma=0.001, kernel=linear, random_state=7 -   2.6s\n",
      "[CV] C=100, gamma=0.001, kernel=linear, random_state=7 ...............\n",
      "[CV] ...... C=100, gamma=0.001, kernel=linear, random_state=7 -   3.5s\n",
      "[CV] C=100, gamma=0.001, kernel=linear, random_state=7 ...............\n",
      "[CV] ...... C=100, gamma=0.001, kernel=linear, random_state=7 -   3.5s\n",
      "[CV] C=100, gamma=0.001, kernel=linear, random_state=7 ...............\n",
      "[CV] ...... C=100, gamma=0.001, kernel=linear, random_state=7 -   3.9s\n",
      "[CV] C=100, gamma=0.001, kernel=linear, random_state=7 ...............\n",
      "[CV] ...... C=100, gamma=0.001, kernel=linear, random_state=7 -   3.2s\n",
      "[CV] C=100, gamma=0.001, kernel=linear, random_state=7 ...............\n",
      "[CV] ...... C=100, gamma=0.001, kernel=linear, random_state=7 -   2.6s\n",
      "[CV] C=100, gamma=0.001, kernel=linear, random_state=7 ...............\n",
      "[CV] ...... C=100, gamma=0.001, kernel=linear, random_state=7 -   2.8s\n",
      "[CV] C=100, gamma=0.001, kernel=linear, random_state=7 ...............\n",
      "[CV] ...... C=100, gamma=0.001, kernel=linear, random_state=7 -   2.9s\n",
      "[CV] C=100, gamma=0.001, kernel=linear, random_state=7 ...............\n",
      "[CV] ...... C=100, gamma=0.001, kernel=linear, random_state=7 -   2.7s\n",
      "[CV] C=100, gamma=0.001, kernel=linear, random_state=7 ...............\n",
      "[CV] ...... C=100, gamma=0.001, kernel=linear, random_state=7 -   3.1s\n",
      "[CV] C=100, gamma=0.001, kernel=rbf, random_state=7 ..................\n",
      "[CV] ......... C=100, gamma=0.001, kernel=rbf, random_state=7 -   5.8s\n",
      "[CV] C=100, gamma=0.001, kernel=rbf, random_state=7 ..................\n",
      "[CV] ......... C=100, gamma=0.001, kernel=rbf, random_state=7 -   5.5s\n",
      "[CV] C=100, gamma=0.001, kernel=rbf, random_state=7 ..................\n",
      "[CV] ......... C=100, gamma=0.001, kernel=rbf, random_state=7 -   4.6s\n",
      "[CV] C=100, gamma=0.001, kernel=rbf, random_state=7 ..................\n",
      "[CV] ......... C=100, gamma=0.001, kernel=rbf, random_state=7 -   4.7s\n",
      "[CV] C=100, gamma=0.001, kernel=rbf, random_state=7 ..................\n",
      "[CV] ......... C=100, gamma=0.001, kernel=rbf, random_state=7 -   4.8s\n",
      "[CV] C=100, gamma=0.001, kernel=rbf, random_state=7 ..................\n",
      "[CV] ......... C=100, gamma=0.001, kernel=rbf, random_state=7 -   5.4s\n",
      "[CV] C=100, gamma=0.001, kernel=rbf, random_state=7 ..................\n",
      "[CV] ......... C=100, gamma=0.001, kernel=rbf, random_state=7 -   4.7s\n",
      "[CV] C=100, gamma=0.001, kernel=rbf, random_state=7 ..................\n",
      "[CV] ......... C=100, gamma=0.001, kernel=rbf, random_state=7 -   4.7s\n",
      "[CV] C=100, gamma=0.001, kernel=rbf, random_state=7 ..................\n",
      "[CV] ......... C=100, gamma=0.001, kernel=rbf, random_state=7 -   4.6s\n",
      "[CV] C=100, gamma=0.001, kernel=rbf, random_state=7 ..................\n",
      "[CV] ......... C=100, gamma=0.001, kernel=rbf, random_state=7 -   4.7s\n"
     ]
    },
    {
     "name": "stderr",
     "output_type": "stream",
     "text": [
      "[Parallel(n_jobs=1)]: Done 180 out of 180 | elapsed: 41.9min finished\n"
     ]
    },
    {
     "data": {
      "text/plain": [
       "GridSearchCV(cv=10, error_score='raise',\n",
       "       estimator=SVC(C=1.0, cache_size=200, class_weight=None, coef0=0.0,\n",
       "  decision_function_shape='ovr', degree=3, gamma='auto', kernel='rbf',\n",
       "  max_iter=-1, probability=False, random_state=None, shrinking=True,\n",
       "  tol=0.001, verbose=False),\n",
       "       fit_params={}, iid=True, n_jobs=1,\n",
       "       param_grid={'kernel': ['linear', 'rbf'], 'gamma': [1, 0.1, 0.001], 'C': [1, 10, 100], 'random_state': [7]},\n",
       "       pre_dispatch='2*n_jobs', refit=True, scoring=None, verbose=2)"
      ]
     },
     "execution_count": 22,
     "metadata": {},
     "output_type": "execute_result"
    }
   ],
   "source": [
    "grid.fit(x_train_pca, y_train.values.ravel())"
   ]
  },
  {
   "cell_type": "code",
   "execution_count": 23,
   "metadata": {
    "collapsed": false
   },
   "outputs": [
    {
     "name": "stdout",
     "output_type": "stream",
     "text": [
      "0.94375\n",
      "SVC(C=10, cache_size=200, class_weight=None, coef0=0.0,\n",
      "  decision_function_shape='ovr', degree=3, gamma=0.001, kernel='rbf',\n",
      "  max_iter=-1, probability=False, random_state=7, shrinking=True,\n",
      "  tol=0.001, verbose=False)\n"
     ]
    }
   ],
   "source": [
    "print (grid.best_score_)\n",
    "print (grid.best_estimator_)"
   ]
  },
  {
   "cell_type": "code",
   "execution_count": 24,
   "metadata": {
    "collapsed": false
   },
   "outputs": [],
   "source": [
    "grid_best = grid.best_params_"
   ]
  },
  {
   "cell_type": "code",
   "execution_count": 25,
   "metadata": {
    "collapsed": false
   },
   "outputs": [],
   "source": [
    "clf = SVC(C=grid_best['C'], gamma=grid_best['gamma'], kernel=grid_best['kernel'], random_state=grid_best['random_state'])"
   ]
  },
  {
   "cell_type": "code",
   "execution_count": 26,
   "metadata": {
    "collapsed": false
   },
   "outputs": [
    {
     "data": {
      "text/plain": [
       "SVC(C=10, cache_size=200, class_weight=None, coef0=0.0,\n",
       "  decision_function_shape='ovr', degree=3, gamma=0.001, kernel='rbf',\n",
       "  max_iter=-1, probability=False, random_state=7, shrinking=True,\n",
       "  tol=0.001, verbose=False)"
      ]
     },
     "execution_count": 26,
     "metadata": {},
     "output_type": "execute_result"
    }
   ],
   "source": [
    "clf.fit(x_train_pca, y_train.values.ravel())"
   ]
  },
  {
   "cell_type": "code",
   "execution_count": 29,
   "metadata": {
    "collapsed": false
   },
   "outputs": [],
   "source": [
    "y_pred = clf.predict(x_test_pca)"
   ]
  },
  {
   "cell_type": "code",
   "execution_count": 39,
   "metadata": {
    "collapsed": true
   },
   "outputs": [],
   "source": [
    "from sklearn.metrics import accuracy_score"
   ]
  },
  {
   "cell_type": "code",
   "execution_count": 40,
   "metadata": {
    "collapsed": false
   },
   "outputs": [
    {
     "name": "stdout",
     "output_type": "stream",
     "text": [
      "0.945555555556\n"
     ]
    }
   ],
   "source": [
    "print (accuracy_score(y_test, y_pred))"
   ]
  },
  {
   "cell_type": "code",
   "execution_count": 45,
   "metadata": {
    "collapsed": false
   },
   "outputs": [
    {
     "data": {
      "text/plain": [
       "array([[170,   0,   1,   0,   1,   1,   0,   2,   0,   0],\n",
       "       [  0, 194,   1,   0,   1,   0,   1,   0,   2,   1],\n",
       "       [  0,   0, 180,   2,   2,   0,   0,   0,   1,   0],\n",
       "       [  0,   2,  10, 188,   0,   2,   0,   1,   1,   0],\n",
       "       [  0,   0,   2,   0, 163,   0,   0,   2,   0,   4],\n",
       "       [  1,   0,   3,   4,   2, 149,   1,   0,   0,   1],\n",
       "       [  2,   1,   1,   0,   1,   0, 165,   0,   0,   0],\n",
       "       [  2,   2,   4,   1,   2,   0,   0, 172,   0,   2],\n",
       "       [  1,   2,   4,   1,   1,   2,   1,   1, 145,   1],\n",
       "       [  1,   1,   3,   1,   3,   1,   0,   4,   0, 176]], dtype=int64)"
      ]
     },
     "execution_count": 45,
     "metadata": {},
     "output_type": "execute_result"
    }
   ],
   "source": [
    "from sklearn.metrics import confusion_matrix\n",
    "confusion_matrix(y_test, y_pred)"
   ]
  },
  {
   "cell_type": "code",
   "execution_count": null,
   "metadata": {
    "collapsed": true
   },
   "outputs": [],
   "source": []
  }
 ],
 "metadata": {
  "kernelspec": {
   "display_name": "Python 3",
   "language": "python",
   "name": "python3"
  },
  "language_info": {
   "codemirror_mode": {
    "name": "ipython",
    "version": 3
   },
   "file_extension": ".py",
   "mimetype": "text/x-python",
   "name": "python",
   "nbconvert_exporter": "python",
   "pygments_lexer": "ipython3",
   "version": "3.6.0"
  }
 },
 "nbformat": 4,
 "nbformat_minor": 2
}
